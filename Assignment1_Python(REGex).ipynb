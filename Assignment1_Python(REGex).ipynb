{
 "cells": [
  {
   "cell_type": "code",
   "execution_count": 1,
   "metadata": {},
   "outputs": [
    {
     "name": "stdout",
     "output_type": "stream",
     "text": [
      "5\n",
      "\n",
      "5 5 5 5 5 \n",
      "5 5 5 5 \n",
      "5 5 5 \n",
      "5 5 \n",
      "5 \n"
     ]
    }
   ],
   "source": [
    "#1\n",
    "\n",
    "n = int(input())\n",
    "print()\n",
    "for i in range(n, 0, -1):\n",
    "    for j in range(1, i+1):\n",
    "        print(\"5\", end= \" \")\n",
    "    print()"
   ]
  },
  {
   "cell_type": "code",
   "execution_count": 2,
   "metadata": {},
   "outputs": [
    {
     "name": "stdout",
     "output_type": "stream",
     "text": [
      "6\n",
      "\n",
      "0 1 2 3 4 5 \n",
      "0 1 2 3 4 \n",
      "0 1 2 3 \n",
      "0 1 2 \n",
      "0 1 \n"
     ]
    }
   ],
   "source": [
    "#2\n",
    "\n",
    "n = int(input())\n",
    "print()\n",
    "for i in range(n, 1, -1):\n",
    "    for j in range(0, i):\n",
    "        print(j, end=\" \")\n",
    "    print()"
   ]
  },
  {
   "cell_type": "code",
   "execution_count": 3,
   "metadata": {},
   "outputs": [
    {
     "name": "stdout",
     "output_type": "stream",
     "text": [
      "5\n",
      "\n",
      "\n",
      "1 \n",
      "3 3 \n",
      "5 5 5 \n",
      "7 7 7 7 \n",
      "9 9 9 9 9 \n"
     ]
    }
   ],
   "source": [
    "#3\n",
    "\n",
    "n = int(input())\n",
    "print()\n",
    "for i in range(n+1):\n",
    "    for j in range(i):\n",
    "        print(2*i-1, end=\" \")\n",
    "    print()"
   ]
  },
  {
   "cell_type": "code",
   "execution_count": 4,
   "metadata": {},
   "outputs": [
    {
     "name": "stdout",
     "output_type": "stream",
     "text": [
      "6\n",
      "\n",
      "1 \n",
      "2 1 \n",
      "3 2 1 \n",
      "4 3 2 1 \n",
      "5 4 3 2 1 \n"
     ]
    }
   ],
   "source": [
    "#4\n",
    "\n",
    "i = int(input())\n",
    "print()\n",
    "for i in range(1, i):\n",
    "    for j in range(i, 0, -1):\n",
    "        print(j, end=\" \")\n",
    "    print()"
   ]
  },
  {
   "cell_type": "code",
   "execution_count": 5,
   "metadata": {},
   "outputs": [
    {
     "name": "stdout",
     "output_type": "stream",
     "text": [
      "1 \n",
      "3 2 \n",
      "6 5 4 \n",
      "10 9 8 7 \n"
     ]
    }
   ],
   "source": [
    "#5\n",
    "\n",
    "begin = 1\n",
    "end = 2\n",
    "current = end\n",
    "for i in range(2, 6):\n",
    "    for j in range(begin, end):\n",
    "        current -= 1\n",
    "        print(current, end= \" \")\n",
    "    print()\n",
    "    begin = end\n",
    "    end += i\n",
    "    current = end"
   ]
  },
  {
   "cell_type": "code",
   "execution_count": 6,
   "metadata": {},
   "outputs": [
    {
     "name": "stdout",
     "output_type": "stream",
     "text": [
      "1  \n",
      "1  1  \n",
      "1  2  1  \n",
      "1  3  3  1  \n",
      "1  4  6  4  1  \n",
      "1  5  10  10  5  1  \n",
      "1  6  15  20  15  6  1  \n"
     ]
    }
   ],
   "source": [
    "#6\n",
    "\n",
    "def pascal(n):\n",
    "    for i in range(0, n):\n",
    "        for j in range(0, i + 1):\n",
    "            print(function(i, j),\" \", end=\"\")\n",
    "        print()\n",
    " \n",
    "def function(n, k):\n",
    "    res = 1\n",
    "    if (k > n - k):\n",
    "        k = n - k\n",
    "    for i in range(0, k):\n",
    "        res = res * (n - i)\n",
    "        res = res // (i + 1)\n",
    " \n",
    "    return res\n",
    " \n",
    "pascal(7)"
   ]
  },
  {
   "cell_type": "code",
   "execution_count": 7,
   "metadata": {},
   "outputs": [
    {
     "name": "stdout",
     "output_type": "stream",
     "text": [
      "5\n",
      "\n",
      "1 2 3 4 5 \n",
      "2 2 3 4 5 \n",
      "3 3 3 4 5 \n",
      "4 4 4 4 5 \n",
      "5 5 5 5 5 \n"
     ]
    }
   ],
   "source": [
    "#7\n",
    "\n",
    "n = int(input())\n",
    "print()\n",
    "\n",
    "for i in range(1, n+1):\n",
    "    for j in range(1, n+1):\n",
    "        if j <= i:\n",
    "            print(i, end=\" \")\n",
    "        else:\n",
    "            print(j, end=\" \")\n",
    "    print()"
   ]
  },
  {
   "cell_type": "code",
   "execution_count": 8,
   "metadata": {},
   "outputs": [
    {
     "name": "stdout",
     "output_type": "stream",
     "text": [
      "9\n",
      "\n",
      "1 \n",
      "2 4 \n",
      "3 6 9 \n",
      "4 8 12 16 \n",
      "5 10 15 20 25 \n",
      "6 12 18 24 30 36 \n",
      "7 14 21 28 35 42 49 \n",
      "8 16 24 32 40 48 56 64 \n"
     ]
    }
   ],
   "source": [
    "#8\n",
    "\n",
    "n = int(input())\n",
    "print()\n",
    "\n",
    "for i in range(1, n):\n",
    "    for j in range(1, i+1):\n",
    "        print(i*j, end=\" \")\n",
    "    print()"
   ]
  },
  {
   "cell_type": "code",
   "execution_count": 9,
   "metadata": {},
   "outputs": [
    {
     "name": "stdout",
     "output_type": "stream",
     "text": [
      "5\n",
      "* * * * * \n",
      " * * * * \n",
      "  * * * \n",
      "   * * \n",
      "    * \n"
     ]
    }
   ],
   "source": [
    "#9\n",
    "\n",
    "n = int(input())\n",
    "for i in range(n, 0, -1):\n",
    "    for j in range(n-i, 0, -1):\n",
    "        print(end=\" \")\n",
    "    for j in range(1, i+1):\n",
    "        print(\"*\", end=\" \")\n",
    "    print()"
   ]
  },
  {
   "cell_type": "code",
   "execution_count": 10,
   "metadata": {},
   "outputs": [
    {
     "name": "stdout",
     "output_type": "stream",
     "text": [
      "7\n",
      "       \n",
      "      * \n",
      "     * * \n",
      "    * * * \n",
      "   * * * * \n",
      "  * * * * * \n",
      " * * * * * * \n"
     ]
    }
   ],
   "source": [
    "#10\n",
    "\n",
    "n = int(input())\n",
    "for i in range(n):\n",
    "    for j in range(n-i, 0, -1):\n",
    "        print(end= \" \")\n",
    "    for j in range(1, i+1):\n",
    "        print(\"*\", end=\" \")\n",
    "    print()"
   ]
  },
  {
   "cell_type": "code",
   "execution_count": 11,
   "metadata": {},
   "outputs": [
    {
     "name": "stdout",
     "output_type": "stream",
     "text": [
      "5\n",
      "\n",
      "* \n",
      "* * \n",
      "* * * \n",
      "* * * * \n",
      "* * * * * \n",
      "\n",
      "* * * * * \n",
      "* * * * \n",
      "* * * \n",
      "* * \n",
      "* \n"
     ]
    }
   ],
   "source": [
    "#11\n",
    "\n",
    "n = int(input())\n",
    "\n",
    "for i in range(0, n+1):\n",
    "    for j in range(0, i):\n",
    "        print(\"*\", end=\" \")\n",
    "    print()\n",
    "    \n",
    "print()\n",
    "\n",
    "for i in range(n, 0, -1):\n",
    "    for j in range(0, i):\n",
    "        print(\"*\", end=\" \")\n",
    "    print()"
   ]
  },
  {
   "cell_type": "code",
   "execution_count": 12,
   "metadata": {},
   "outputs": [
    {
     "name": "stdout",
     "output_type": "stream",
     "text": [
      "5\n",
      "\n",
      "* \n",
      "* * \n",
      "* * * \n",
      "* * * * \n",
      "* * * * * \n",
      "* * * * \n",
      "* * * \n",
      "* * \n",
      "* \n"
     ]
    }
   ],
   "source": [
    "#12\n",
    "\n",
    "n = int(input())\n",
    "print()\n",
    "\n",
    "for i in range(n):\n",
    "    for j in range(i+1):\n",
    "        print(\"*\", end=\" \")\n",
    "    print()\n",
    "for i in range(n-1, 0, -1):\n",
    "    for j in range(i):\n",
    "        print(\"*\", end=\" \")\n",
    "    print()"
   ]
  },
  {
   "cell_type": "code",
   "execution_count": 13,
   "metadata": {},
   "outputs": [
    {
     "name": "stdout",
     "output_type": "stream",
     "text": [
      "5\n",
      "\n",
      "        * \n",
      "      * * \n",
      "    * * * \n",
      "  * * * * \n",
      "* * * * * \n",
      "  * * * * \n",
      "    * * * \n",
      "      * * \n",
      "        * \n"
     ]
    }
   ],
   "source": [
    "#13\n",
    "\n",
    "n = int(input())\n",
    "print()\n",
    "\n",
    "k = 2*n-2\n",
    "for i in range(0, n-1):\n",
    "    for j in range(0, k):\n",
    "        print(end=\" \")\n",
    "    k = k-2\n",
    "    for j in range(0, i+1):\n",
    "        print(\"*\", end=\" \")\n",
    "    print()\n",
    "k = -1\n",
    "for i in range(n-1, -1, -1):\n",
    "    for j in range(k, -1, -1):\n",
    "        print(end=\" \")\n",
    "    k = k+2\n",
    "    for j in range(0, i+1):\n",
    "        print(\"*\", end=\" \")\n",
    "    print()"
   ]
  },
  {
   "cell_type": "code",
   "execution_count": 14,
   "metadata": {},
   "outputs": [
    {
     "name": "stdout",
     "output_type": "stream",
     "text": [
      "* * * * * \n",
      " * * * * \n",
      "  * * * \n",
      "   * * \n",
      "    * \n",
      "    * \n",
      "   * * \n",
      "  * * * \n",
      " * * * * \n",
      "* * * * * \n"
     ]
    }
   ],
   "source": [
    "#14\n",
    "\n",
    "rows = 5\n",
    "i = 0\n",
    "while i <= rows - 1:\n",
    "    j = 0\n",
    "    while j < i:\n",
    "        # display space\n",
    "        print('', end=' ')\n",
    "        j += 1\n",
    "    k = i\n",
    "    while k <= rows - 1:\n",
    "        print('*', end=' ')\n",
    "        k += 1\n",
    "    print()\n",
    "    i += 1\n",
    "\n",
    "i = rows - 1\n",
    "while i >= 0:\n",
    "    j = 0\n",
    "    while j < i:\n",
    "        print('', end=' ')\n",
    "        j += 1\n",
    "    k = i\n",
    "    while k <= rows - 1:\n",
    "        print('*', end=' ')\n",
    "        k += 1\n",
    "    print('')\n",
    "    i -= 1"
   ]
  },
  {
   "cell_type": "code",
   "execution_count": 15,
   "metadata": {},
   "outputs": [
    {
     "name": "stdout",
     "output_type": "stream",
     "text": [
      "* * * * * * * * * * * * * * * * \n",
      "* * * * * * * _ _ * * * * * * * \n",
      "* * * * * * _ _ _ _ * * * * * * \n",
      "* * * * * _ _ _ _ _ _ * * * * * \n",
      "* * * * _ _ _ _ _ _ _ _ * * * * \n",
      "* * * _ _ _ _ _ _ _ _ _ _ * * * \n",
      "* * _ _ _ _ _ _ _ _ _ _ _ _ * * \n",
      "* _ _ _ _ _ _ _ _ _ _ _ _ _ _ * \n"
     ]
    }
   ],
   "source": [
    "#15\n",
    "\n",
    "for i in range(8,0,-1):\n",
    "    for j in range(0, i):\n",
    "        print(\"*\",end=\" \")\n",
    "    for j in range(8-i):\n",
    "        print(\"_\",end=\" \")\n",
    "    for j in range(8-i):\n",
    "        print(\"_\",end=\" \")\n",
    "    for j in range(i,0,-1):\n",
    "        print(\"*\",end=\" \") \n",
    "    print()\n"
   ]
  },
  {
   "cell_type": "code",
   "execution_count": null,
   "metadata": {},
   "outputs": [],
   "source": []
  }
 ],
 "metadata": {
  "kernelspec": {
   "display_name": "Python 3",
   "language": "python",
   "name": "python3"
  },
  "language_info": {
   "codemirror_mode": {
    "name": "ipython",
    "version": 3
   },
   "file_extension": ".py",
   "mimetype": "text/x-python",
   "name": "python",
   "nbconvert_exporter": "python",
   "pygments_lexer": "ipython3",
   "version": "3.7.3"
  }
 },
 "nbformat": 4,
 "nbformat_minor": 2
}
